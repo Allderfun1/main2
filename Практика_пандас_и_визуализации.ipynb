{
  "nbformat": 4,
  "nbformat_minor": 0,
  "metadata": {
    "colab": {
      "provenance": [],
      "include_colab_link": true
    },
    "kernelspec": {
      "name": "python3",
      "display_name": "Python 3"
    },
    "language_info": {
      "name": "python"
    }
  },
  "cells": [
    {
      "cell_type": "markdown",
      "metadata": {
        "id": "view-in-github",
        "colab_type": "text"
      },
      "source": [
        "<a href=\"https://colab.research.google.com/github/Allderfun1/main2/blob/main/%D0%9F%D1%80%D0%B0%D0%BA%D1%82%D0%B8%D0%BA%D0%B0_%D0%BF%D0%B0%D0%BD%D0%B4%D0%B0%D1%81_%D0%B8_%D0%B2%D0%B8%D0%B7%D1%83%D0%B0%D0%BB%D0%B8%D0%B7%D0%B0%D1%86%D0%B8%D0%B8.ipynb\" target=\"_parent\"><img src=\"https://colab.research.google.com/assets/colab-badge.svg\" alt=\"Open In Colab\"/></a>"
      ]
    },
    {
      "cell_type": "markdown",
      "source": [
        "##Практика построения различных графиков\n",
        "\n",
        "Возьмем [файл](https://drive.google.com/file/d/1mOXU48GaM7Bbv3zBxKaH4kTcVJoriC-1/view?usp=share_link) со статистикой по стоимости Интернета из прошлого урока.\n",
        "\n",
        "Часть столбцов содержат в себе числовую информацию, хотя представляют собой строки (есть значок валюты).Пользуясь знаниями из прошлых занятий, придумайте, как получить столбцы с числовыми значениями. По этим значениям мы далее построим графики. Строки с пропусками уберите из набора данных."
      ],
      "metadata": {
        "id": "Shy_jOrU8WbG"
      }
    },
    {
      "cell_type": "code",
      "source": [
        "import pandas as pd\n",
        "\n",
        "# загрузка данных из файла\n",
        "df = pd.read_csv('file.csv')\n",
        "\n",
        "# удаление строк с пропусками\n",
        "df.dropna(inplace=True)\n",
        "\n",
        "# функция для преобразования строковых значений в числа\n",
        "def convert_to_number(value):\n",
        "    if isinstance(value, str):\n",
        "        return float(value.replace('$', '').replace(',', ''))\n",
        "    else:\n",
        "        return value\n",
        "\n",
        "# применение функции к нужным столбцам\n",
        "numeric_columns = ['column1', 'column2', 'column3']\n",
        "for col in numeric_columns:\n",
        "    df[col] = df[col].apply(convert_to_number)"
      ],
      "metadata": {
        "id": "OaFlK72ZkHhm"
      },
      "execution_count": null,
      "outputs": []
    },
    {
      "cell_type": "markdown",
      "source": [
        "Построим диаграмму рассеяния по столбцам таблицы \"Cheapest 1GB for 30 days (USD)\" и \"Most expensive 1GB (USD)\". В какой стране есть Интеренет стоимостью почти 800$ за Гб, если верить таблице?"
      ],
      "metadata": {
        "id": "TuJEJFUOArKk"
      }
    },
    {
      "cell_type": "code",
      "source": [
        "# поиск строки с интернетом стоимостью почти 800$ за Гб\n",
        "row = df.loc[df['Most expensive 1GB (USD)'] > 799]\n",
        "\n",
        "# вывод названия страны\n",
        "print(row['Country'])"
      ],
      "metadata": {
        "id": "k1y61GTmApv4"
      },
      "execution_count": null,
      "outputs": []
    },
    {
      "cell_type": "markdown",
      "source": [
        "Построим столбчатую диаграмму. Возьмите для этого 5 любых стран и постройте столбчатую диаграмму по количеству тарифов (\"NO. OF Internet Plans\")"
      ],
      "metadata": {
        "id": "KTloxKy2GKu_"
      }
    },
    {
      "cell_type": "code",
      "source": [
        "# выбор 5 стран\n",
        "countries = ['Russia', 'USA', 'China', 'Germany', 'India']\n",
        "\n",
        "# получение количества тарифов для каждой выбранной страны\n",
        "num_plans = df.loc[df['Country'].isin(countries)]['NO. OF Internet Plans']\n",
        "\n",
        "# построение столбчатой диаграммы\n",
        "plt.bar(countries, num_plans)\n",
        "\n",
        "# добавление подписей осей и заголовка\n",
        "plt.xlabel('Country')\n",
        "plt.ylabel('Number of Internet Plans')\n",
        "plt.title('Number of Internet Plans by Country')\n",
        "\n",
        "# отображение графика\n",
        "plt.show()"
      ],
      "metadata": {
        "id": "MAkhPtXYGy39"
      },
      "execution_count": null,
      "outputs": []
    },
    {
      "cell_type": "markdown",
      "source": [
        "Построим круговую диаграмму. Давайте с помощью Python посчитаем количество стран в каждом регионе (\"Continental region\")."
      ],
      "metadata": {
        "id": "Cs_3Opu5IDkz"
      }
    },
    {
      "cell_type": "code",
      "execution_count": null,
      "metadata": {
        "id": "B-SlpDcwflCr"
      },
      "outputs": [],
      "source": [
        "python\n",
        "import pandas as pd\n",
        "\n",
        "# получение количества стран в каждом регионе\n",
        "region_counts = df['Continental region'].value_counts()\n",
        "\n",
        "# построение круговой диаграммы\n",
        "plt.pie(region_counts, labels=region_counts.index)\n",
        "\n",
        "# добавление заголовка\n",
        "plt.title('Number of Countries by Continental Region')\n",
        "\n",
        "# отображение графика\n",
        "plt.show()"
      ]
    },
    {
      "cell_type": "code",
      "source": [],
      "metadata": {
        "id": "TousfgC-IeJS"
      },
      "execution_count": null,
      "outputs": []
    }
  ]
}